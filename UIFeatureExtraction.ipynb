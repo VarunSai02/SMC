{
 "cells": [
  {
   "cell_type": "code",
   "execution_count": null,
   "id": "92ecfa2c-c94d-4742-9b37-4477b29078a7",
   "metadata": {},
   "outputs": [],
   "source": [
    "from flask import Flask, request, jsonify\n",
    "import librosa\n",
    "import numpy as np\n",
    "from joblib import load\n",
    "\n",
    "app = Flask(__name__)\n",
    "\n",
    "# Load the trained Random Forest model\n",
    "random_forest_model = load('random_forest_model.joblib')\n",
    "\n",
    "# Function to extract features from audio\n",
    "def get_feature_vector(audio_file):\n",
    "    y, sr = librosa.load(audio_file, sr=None)  # Load audio file\n",
    "    \n",
    "    # Extract features\n",
    "    spectral_centroid = np.mean(librosa.feature.spectral_centroid(y=y, sr=sr))\n",
    "    spectral_bandwidth = np.mean(librosa.feature.spectral_bandwidth(y=y, sr=sr))\n",
    "    spectral_rolloff = np.mean(librosa.feature.spectral_rolloff(y=y, sr=sr))\n",
    "    zero_crossing_rate = np.mean(librosa.feature.zero_crossing_rate(y))\n",
    "    mfccs = np.mean(librosa.feature.mfcc(y=y, sr=sr, n_mfcc=13), axis=1)\n",
    "    lpc = np.std(librosa.lpc(y, order=16))  # Specify the order parameter\n",
    "    \n",
    "    # Additional features\n",
    "    spectral_contrast = np.mean(librosa.feature.spectral_contrast(y=y, sr=sr))\n",
    "    chroma_stft = np.mean(librosa.feature.chroma_stft(y=y, sr=sr))\n",
    "    tempo = librosa.beat.tempo(y=y, sr=sr)[0]\n",
    "    \n",
    "    # Combine features into a single feature vector\n",
    "    feature_vector = [spectral_centroid, spectral_bandwidth, spectral_rolloff,\n",
    "                      zero_crossing_rate, *mfccs, lpc, spectral_contrast,\n",
    "                      chroma_stft, tempo]\n",
    "    return feature_vector\n",
    "\n",
    "@app.route('/extract-features', methods=['POST'])\n",
    "def extract_features():\n",
    "    # Receive the recorded audio file from the UI\n",
    "    audio_file = request.files['audio']\n",
    "    audio_file.save('recorded_audio.wav')\n",
    "    \n",
    "    # Extract features from the recorded audio file\n",
    "    feature_vector = get_feature_vector('recorded_audio.wav')\n",
    "    \n",
    "    # Use the trained model to classify if it is a concussion or not\n",
    "    prediction = random_forest_model.predict([feature_vector])[0]\n",
    "    \n",
    "    # Return the prediction as JSON\n",
    "    return jsonify({'prediction': prediction})\n",
    "\n",
    "if __name__ == '__main__':\n",
    "    app.run(debug=True)\n"
   ]
  },
  {
   "cell_type": "code",
   "execution_count": null,
   "id": "1969a4ce-0158-4a48-be99-ac0703bfffa2",
   "metadata": {},
   "outputs": [],
   "source": []
  },
  {
   "cell_type": "code",
   "execution_count": null,
   "id": "a64a4529-acdc-451c-8de7-04cc79cb5c5a",
   "metadata": {},
   "outputs": [],
   "source": []
  },
  {
   "cell_type": "code",
   "execution_count": null,
   "id": "fee3c5ef-2c30-4de6-b476-3152f55592df",
   "metadata": {},
   "outputs": [],
   "source": []
  }
 ],
 "metadata": {
  "kernelspec": {
   "display_name": "Python 3 (ipykernel)",
   "language": "python",
   "name": "python3"
  },
  "language_info": {
   "codemirror_mode": {
    "name": "ipython",
    "version": 3
   },
   "file_extension": ".py",
   "mimetype": "text/x-python",
   "name": "python",
   "nbconvert_exporter": "python",
   "pygments_lexer": "ipython3",
   "version": "3.11.5"
  }
 },
 "nbformat": 4,
 "nbformat_minor": 5
}
