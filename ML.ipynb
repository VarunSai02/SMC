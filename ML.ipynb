{
 "cells": [
  {
   "cell_type": "code",
   "execution_count": 7,
   "id": "8215bab2-da46-41d0-87ff-d1c57f27706c",
   "metadata": {},
   "outputs": [
    {
     "name": "stdout",
     "output_type": "stream",
     "text": [
      "Random Forest accuracy: 0.6927\n",
      "              precision    recall  f1-score   support\n",
      "\n",
      "           0       0.68      0.75      0.71       227\n",
      "           1       0.71      0.64      0.67       222\n",
      "\n",
      "    accuracy                           0.69       449\n",
      "   macro avg       0.69      0.69      0.69       449\n",
      "weighted avg       0.69      0.69      0.69       449\n",
      "\n",
      "\n",
      "SVM accuracy: 0.6503\n",
      "              precision    recall  f1-score   support\n",
      "\n",
      "           0       0.63      0.73      0.68       227\n",
      "           1       0.67      0.57      0.62       222\n",
      "\n",
      "    accuracy                           0.65       449\n",
      "   macro avg       0.65      0.65      0.65       449\n",
      "weighted avg       0.65      0.65      0.65       449\n",
      "\n",
      "\n",
      "Gradient Boosting accuracy: 0.6147\n",
      "              precision    recall  f1-score   support\n",
      "\n",
      "           0       0.62      0.62      0.62       227\n",
      "           1       0.61      0.61      0.61       222\n",
      "\n",
      "    accuracy                           0.61       449\n",
      "   macro avg       0.61      0.61      0.61       449\n",
      "weighted avg       0.61      0.61      0.61       449\n",
      "\n",
      "\n",
      "Regularized Logistic Regression accuracy: 0.5143 (+/- 0.0389)\n"
     ]
    }
   ],
   "source": [
    "import numpy as np\n",
    "import pandas as pd\n",
    "from sklearn.model_selection import train_test_split, cross_val_score\n",
    "from sklearn.ensemble import RandomForestClassifier, GradientBoostingClassifier\n",
    "from sklearn.svm import SVC\n",
    "from sklearn.metrics import accuracy_score, classification_report\n",
    "from sklearn.preprocessing import StandardScaler\n",
    "from sklearn.pipeline import make_pipeline\n",
    "from sklearn.linear_model import LogisticRegression\n",
    "\n",
    "# Load the features and labels from CSV files\n",
    "features_df = pd.read_csv('concussion_classification_features.csv')\n",
    "labels_df = pd.read_csv('concussion_classification_labels.csv')\n",
    "\n",
    "# Convert dataframes to numpy arrays\n",
    "X = features_df.values\n",
    "y = labels_df['Label'].values\n",
    "\n",
    "# Split data into training and testing sets\n",
    "X_train, X_test, y_train, y_test = train_test_split(X, y, test_size=0.2, random_state=42)\n",
    "\n",
    "# Initialize models\n",
    "random_forest = RandomForestClassifier(n_estimators=100, random_state=42)\n",
    "svm = make_pipeline(StandardScaler(), SVC(kernel='rbf', C=1.0, gamma='scale', random_state=42))\n",
    "gradient_boosting = GradientBoostingClassifier(n_estimators=100, random_state=42)\n",
    "\n",
    "# Train models\n",
    "random_forest.fit(X_train, y_train)\n",
    "svm.fit(X_train, y_train)\n",
    "gradient_boosting.fit(X_train, y_train)\n",
    "\n",
    "# Evaluate models\n",
    "models = {'Random Forest': random_forest, 'SVM': svm, 'Gradient Boosting': gradient_boosting}\n",
    "for name, model in models.items():\n",
    "    y_pred = model.predict(X_test)\n",
    "    accuracy = accuracy_score(y_test, y_pred)\n",
    "    print(f\"{name} accuracy: {accuracy:.4f}\")\n",
    "    print(classification_report(y_test, y_pred))\n",
    "    print()\n",
    "\n",
    "# Regularized Logistic Regression\n",
    "logistic_regression = make_pipeline(StandardScaler(), LogisticRegression(penalty='l2', C=1.0, random_state=42))\n",
    "scores = cross_val_score(logistic_regression, X, y, cv=5)\n",
    "print(f\"Regularized Logistic Regression accuracy: {np.mean(scores):.4f} (+/- {np.std(scores):.4f})\")\n",
    "\n"
   ]
  },
  {
   "cell_type": "code",
   "execution_count": 8,
   "id": "d15976dc-bc15-447e-b925-3b856b981313",
   "metadata": {},
   "outputs": [
    {
     "data": {
      "text/plain": [
       "['random_forest_model.joblib']"
      ]
     },
     "execution_count": 8,
     "metadata": {},
     "output_type": "execute_result"
    }
   ],
   "source": [
    "from joblib import dump\n",
    "\n",
    "# Save the trained Random Forest model\n",
    "dump(random_forest, 'random_forest_model.joblib')"
   ]
  },
  {
   "cell_type": "code",
   "execution_count": 9,
   "id": "5ff342da-8ffd-443d-8c76-3d22d826d7cd",
   "metadata": {},
   "outputs": [
    {
     "name": "stdout",
     "output_type": "stream",
     "text": [
      "Confusion Matrix:\n",
      "[[170  57]\n",
      " [ 81 141]]\n",
      "Random Forest predictions:\n",
      "[1 0 0 1 1 0 1 1 0 0 0 0 1 0 0 0 0 1 0 1 1 0 0 1 1 1 0 1 0 0 0 0 1 0 1 1 1\n",
      " 0 1 1 0 0 0 0 1 0 1 1 1 0 1 0 0 1 0 1 0 1 0 1 0 0 0 0 0 0 0 0 0 1 0 1 1 1\n",
      " 0 0 1 1 1 0 1 0 0 1 1 1 0 1 0 0 0 0 1 1 1 0 0 0 1 0 1 1 0 1 0 1 0 1 0 0 1\n",
      " 0 0 0 0 1 1 0 1 0 0 0 1 0 1 0 0 1 0 1 0 1 0 1 1 0 1 0 1 0 0 0 1 0 1 0 0 0\n",
      " 0 1 1 1 0 0 1 1 1 0 0 1 0 0 0 0 0 0 0 0 0 1 0 1 0 1 0 0 0 0 0 0 1 1 0 0 0\n",
      " 1 1 0 1 1 0 0 1 0 0 1 0 0 0 0 0 0 0 1 0 1 1 0 1 1 1 0 0 0 0 0 1 0 1 0 1 0\n",
      " 0 1 1 0 0 0 1 0 1 1 1 0 0 1 0 1 1 0 1 1 1 1 1 1 0 1 0 1 0 1 1 1 1 0 1 1 1\n",
      " 0 1 1 0 0 0 0 0 0 0 0 0 1 0 0 0 0 1 1 0 0 1 0 1 1 1 0 0 1 0 1 1 0 0 0 1 0\n",
      " 0 1 1 1 0 0 0 0 1 1 1 1 0 1 0 1 0 1 0 1 1 0 1 1 0 1 1 1 0 1 1 0 1 1 1 1 0\n",
      " 0 1 0 0 1 1 0 0 1 0 0 1 1 0 1 1 1 0 1 0 0 0 0 0 0 0 0 1 1 1 1 1 0 0 0 1 0\n",
      " 0 1 0 0 0 0 0 1 0 1 0 0 0 1 0 0 0 1 0 1 1 0 1 0 0 0 1 0 1 1 0 0 1 1 0 0 0\n",
      " 1 0 0 0 0 0 1 0 1 0 1 0 1 1 0 0 1 0 1 0 0 0 0 1 1 0 1 1 1 0 0 1 1 0 1 0 1\n",
      " 0 0 0 0 1]\n",
      "Sensitivity: 0.6351351351351351\n",
      "Specificity: 0.748898678414097\n"
     ]
    }
   ],
   "source": [
    "from sklearn.metrics import confusion_matrix\n",
    "from joblib import load\n",
    "\n",
    "# Load the saved Random Forest model\n",
    "rf_model = load('random_forest_model.joblib')\n",
    "\n",
    "# Use the model to predict labels for your test data\n",
    "rf_predictions = rf_model.predict(X_test)\n",
    "\n",
    "conf_matrix = confusion_matrix(y_test, rf_predictions)\n",
    "\n",
    "print(\"Confusion Matrix:\")\n",
    "print(conf_matrix)\n",
    "\n",
    "# Calculate the confusion matrix\n",
    "tn, fp, fn, tp = confusion_matrix(y_test, rf_predictions).ravel()\n",
    "\n",
    "# Calculate sensitivity and specificity\n",
    "sensitivity = tp / (tp + fn)\n",
    "specificity = tn / (tn + fp)\n",
    "\n",
    "print(\"Random Forest predictions:\")\n",
    "print(rf_predictions)\n",
    "print(\"Sensitivity:\", sensitivity)\n",
    "print(\"Specificity:\", specificity)\n"
   ]
  },
  {
   "cell_type": "code",
   "execution_count": null,
   "id": "d03bb9d0-0806-4bc6-9e03-e0ee2eaab90b",
   "metadata": {},
   "outputs": [],
   "source": []
  }
 ],
 "metadata": {
  "kernelspec": {
   "display_name": "Python 3 (ipykernel)",
   "language": "python",
   "name": "python3"
  },
  "language_info": {
   "codemirror_mode": {
    "name": "ipython",
    "version": 3
   },
   "file_extension": ".py",
   "mimetype": "text/x-python",
   "name": "python",
   "nbconvert_exporter": "python",
   "pygments_lexer": "ipython3",
   "version": "3.11.5"
  }
 },
 "nbformat": 4,
 "nbformat_minor": 5
}
